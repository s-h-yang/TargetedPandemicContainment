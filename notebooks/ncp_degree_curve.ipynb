{
 "cells": [
  {
   "cell_type": "code",
   "execution_count": null,
   "metadata": {},
   "outputs": [],
   "source": [
    "import numpy as np\n",
    "import networkx as nx\n",
    "import matplotlib.pyplot as plt\n",
    "\n",
    "from pandas import read_table"
   ]
  },
  {
   "cell_type": "markdown",
   "metadata": {},
   "source": [
    "# Plot all NCPs on the same plot"
   ]
  },
  {
   "cell_type": "code",
   "execution_count": null,
   "metadata": {},
   "outputs": [],
   "source": [
    "colnames = ['output_sizeeff', 'output_cond']\n",
    "df_ncp_facebook = read_table(\"../data/stats/facebookcounty_ncp.txt\", header=None, names=colnames, sep=' ')\n",
    "df_ncp_montreal = read_table(\"../data/stats/montreal_ncp.txt\", header=None, names=colnames, sep=' ')\n",
    "df_ncp_portsub = read_table(\"../data/stats/portlandsub_ncp.txt\", header=None, names=colnames, sep=' ')\n",
    "df_ncp_portland = read_table(\"../data/stats/portland_ncp.txt\", header=None, names=colnames, sep=' ')"
   ]
  },
  {
   "cell_type": "code",
   "execution_count": null,
   "metadata": {},
   "outputs": [],
   "source": [
    "max_size_facebook = df_ncp_facebook['output_sizeeff'].max()\n",
    "sizes = list(set(df_ncp_facebook['output_sizeeff']))\n",
    "sizes_facebook = np.sort(np.asarray(sizes))\n",
    "min_cond_facebook = []\n",
    "for size_ in sizes_facebook:\n",
    "    temp = df_ncp_facebook[(df_ncp_facebook['output_sizeeff']==size_)]\n",
    "    min_cond_facebook.append(temp['output_cond'].min())\n",
    "    \n",
    "max_size_montreal = df_ncp_montreal['output_sizeeff'].max()\n",
    "sizes = list(set(df_ncp_montreal['output_sizeeff']))\n",
    "sizes_montreal = np.sort(np.asarray(sizes))\n",
    "min_cond_montreal = []\n",
    "for size_ in sizes_montreal:\n",
    "    temp = df_ncp_montreal[(df_ncp_montreal['output_sizeeff']==size_)]\n",
    "    min_cond_montreal.append(temp['output_cond'].min())\n",
    "    \n",
    "max_size_portsub = df_ncp_portsub['output_sizeeff'].max()\n",
    "sizes = list(set(df_ncp_portsub['output_sizeeff']))\n",
    "sizes_portsub = np.sort(np.asarray(sizes))\n",
    "min_cond_portsub = []\n",
    "for size_ in sizes_portsub:\n",
    "    temp = df_ncp_portsub[(df_ncp_portsub['output_sizeeff']==size_)]\n",
    "    min_cond_portsub.append(temp['output_cond'].min())\n",
    "    \n",
    "max_size_portland = df_ncp_portland['output_sizeeff'].max()\n",
    "sizes = list(set(df_ncp_portland['output_sizeeff']))\n",
    "sizes_portland = np.sort(np.asarray(sizes))\n",
    "min_cond_portland = []\n",
    "for size_ in sizes_portland:\n",
    "    temp = df_ncp_portland[(df_ncp_portland['output_sizeeff']==size_)]\n",
    "    min_cond_portland.append(temp['output_cond'].min())"
   ]
  },
  {
   "cell_type": "code",
   "execution_count": null,
   "metadata": {},
   "outputs": [],
   "source": [
    "fig, ax = plt.subplots()\n",
    "plt.plot(list(sizes_montreal), min_cond_montreal, label='Wi-Fi Montreal', linestyle=\":\", color='tab:orange', linewidth=2)\n",
    "plt.plot(list(sizes_portsub), min_cond_portsub, label='Port. Sub.', linestyle=(0,(5,1)), color='tab:blue', linewidth=2)\n",
    "plt.plot(list(sizes_facebook), min_cond_facebook, label='Facebook County', linestyle=(0,(3,1,1,1,1,1)), color='tab:green', linewidth=3)\n",
    "plt.plot(list(sizes_portland), min_cond_portland, label='Portland', linestyle=\"-\", color='k', linewidth=2.5)\n",
    "plt.yscale('log')\n",
    "plt.xscale('log')\n",
    "plt.xticks(size=15)\n",
    "plt.yticks(size=15)\n",
    "handles,labels = ax.get_legend_handles_labels()\n",
    "handles = [handles[2], handles[1], handles[0], handles[3]]\n",
    "labels = [labels[2], labels[1], labels[0], labels[3]]\n",
    "ax.legend(handles, labels, fontsize=18, bbox_to_anchor=(0.5, .27), ncol=2, loc='upper center')\n",
    "plt.xlabel('Size', fontsize=20)\n",
    "plt.ylabel('Conductance',fontsize=20)\n",
    "plt.ylim((10**-3, 1))\n",
    "fig.set_size_inches(8,5)"
   ]
  },
  {
   "cell_type": "markdown",
   "metadata": {},
   "source": [
    "### Smooth the NCPs for cleaner visualization"
   ]
  },
  {
   "cell_type": "code",
   "execution_count": null,
   "metadata": {},
   "outputs": [],
   "source": [
    "from scipy.signal import savgol_filter\n",
    "\n",
    "T_facebook = np.array(list(sizes_facebook))\n",
    "min_cond_facebook_smooth = savgol_filter(min_cond_facebook, 51, 9) # window size 51, polynomial order 9\n",
    "\n",
    "T_montreal = np.array(list(sizes_montreal))\n",
    "min_cond_montreal_smooth = savgol_filter(min_cond_montreal, 51, 7) # window size 51, polynomial order 7\n",
    "\n",
    "T_portsub = np.array(list(sizes_portsub))\n",
    "min_cond_portsub_smooth = savgol_filter(min_cond_portsub, 51, 9) # window size 51, polynomial order 9\n",
    "\n",
    "T_portland = np.array(list(sizes_portland))\n",
    "min_cond_portland_smooth = savgol_filter(min_cond_portland, 51, 9) # window size 51, polynomial order 9\n",
    "\n",
    "fig, ax = plt.subplots()\n",
    "plt.plot(T_montreal, min_cond_montreal_smooth, label='Wi-Fi Montreal', linestyle=\":\", color='k', linewidth=5)\n",
    "plt.plot(T_portsub, min_cond_portsub_smooth, label='Port. Sub.', linestyle=\"-\", color='tab:blue', linewidth=5)\n",
    "plt.plot(T_facebook, min_cond_facebook_smooth, label='Facebook County', linestyle=\"--\", color='tab:green', linewidth=5)\n",
    "plt.plot(T_portland, min_cond_portland_smooth, label='Portland', linestyle=\"-.\", color='tab:purple', linewidth=5)\n",
    "plt.plot(55, .035, marker='*', markersize=30, color='tab:green', markeredgewidth=2)\n",
    "plt.plot(85, .035, marker='d', markersize=25, color='tab:blue', markeredgewidth=2)\n",
    "plt.plot(85, .09, marker='o', markersize=25, color='k', markeredgewidth=2)\n",
    "plt.plot(30, .1, marker='s', markersize=25, color='tab:purple', markeredgewidth=2)\n",
    "plt.yscale('log')\n",
    "plt.xscale('log')\n",
    "plt.xticks(size=20)\n",
    "plt.yticks(size=20)\n",
    "handles,labels = ax.get_legend_handles_labels()\n",
    "handles = [handles[2], handles[1], handles[0], handles[3]]\n",
    "labels = [labels[2], labels[1], labels[0], labels[3]]\n",
    "ax.legend(handles, labels, fontsize=21, bbox_to_anchor=(0.5, .27), ncol=2, loc='upper center')\n",
    "plt.xlabel('Size', fontsize=25)\n",
    "plt.ylabel('Conductance',fontsize=25)\n",
    "plt.ylim((4*10**-3, 1))\n",
    "fig.set_size_inches(9.3,5.5)\n",
    "ax.tick_params(axis=\"x\", labelsize=20)\n",
    "ax.tick_params(axis=\"y\", labelsize=20)\n",
    "plt.savefig('ncps.pdf',  bbox_inches='tight')\n",
    "plt.show()"
   ]
  },
  {
   "cell_type": "markdown",
   "metadata": {},
   "source": [
    "# Degree distribution"
   ]
  },
  {
   "cell_type": "code",
   "execution_count": null,
   "metadata": {},
   "outputs": [],
   "source": [
    "degree_facebook = np.loadtxt(\"../data/stats/facebookcounty_degree.txt\", dtype=int)\n",
    "degree_montreal = np.loadtxt(\"../data/stats/montreal_degree.txt\", dtype=int)\n",
    "degree_portsub = np.loadtxt(\"../data/stats/portlandsub_degree.txt\", dtype=int)\n",
    "degree_portland = np.loadtxt(\"../data/stats/portland_degree.txt\", dtype=int)"
   ]
  },
  {
   "cell_type": "code",
   "execution_count": null,
   "metadata": {},
   "outputs": [],
   "source": [
    "import seaborn as sns\n",
    "fig, ax = plt.subplots()\n",
    "sns.distplot(degree_facebook, bins=100, color='tab:green', label='Facebook County', kde=False, hist=True, norm_hist=False, hist_kws={\"histtype\": \"step\", \"linestyle\": \"--\", \"linewidth\": 5,\"alpha\": 1, \"range\": [0,160], 'weights': np.full(len(degree_facebook), 1/len(degree_facebook))})\n",
    "sns.distplot(degree_montreal, bins=100, color='k', label='Wi-Fi Montreal', kde=False, hist=True, norm_hist=False, hist_kws={\"histtype\": \"step\", \"linestyle\": \":\", \"linewidth\": 5,\"alpha\": 1, \"range\": [0,160], 'weights': np.full(len(degree_montreal), 1/len(degree_montreal))})\n",
    "sns.distplot(degree_portsub, bins=100, color='tab:blue', label='Port. Sub.', kde=False, hist=True, norm_hist=False, hist_kws={\"histtype\": \"step\", \"linestyle\": \"-\", \"linewidth\":5,\"alpha\": 1, \"range\": [0,160], 'weights': np.full(len(degree_portsub), 1/len(degree_portsub))})\n",
    "sns.distplot(degree_portland, bins=100, color='tab:purple', label='Portland', kde=False, hist=True, norm_hist=False, hist_kws={\"histtype\": \"step\", \"linestyle\": \"-.\", \"linewidth\": 5,\"alpha\": 1, \"range\": [0,160], 'weights': np.full(len(degree_portland), 1/len(degree_portland))})\n",
    "handles,labels = ax.get_legend_handles_labels()\n",
    "handles = [handles[0], handles[1], handles[2], handles[3]]\n",
    "labels = [\"Facebook County\", \"Wi-Fi Montreal\", \"Port. Sub.\", \"Portland\"]\n",
    "ax.legend(handles, labels, fontsize=22, ncol=1, loc='upper right')\n",
    "plt.xlabel('Degree', fontsize=25)\n",
    "plt.ylabel('Density',fontsize=25)\n",
    "fig.set_size_inches(9.3,5.3)\n",
    "ax.tick_params(axis=\"x\", labelsize=20)\n",
    "ax.tick_params(axis=\"y\", labelsize=20)\n",
    "plt.savefig('degrees.pdf', bbox_inches='tight')\n",
    "plt.show()"
   ]
  },
  {
   "cell_type": "markdown",
   "metadata": {},
   "source": [
    "# Epidemic curves"
   ]
  },
  {
   "cell_type": "code",
   "execution_count": null,
   "metadata": {},
   "outputs": [],
   "source": [
    "curve_facebook = np.loadtxt(\"../data/stats/facebookcounty_curves.txt\")\n",
    "curve_montreal = np.loadtxt(\"../data/stats/montreal_curves.txt\")\n",
    "curve_portsub = np.loadtxt(\"../data/stats/portlandsub_curves.txt\")\n",
    "curve_portland = np.loadtxt(\"../data/stats/portland_curves.txt\")"
   ]
  },
  {
   "cell_type": "code",
   "execution_count": null,
   "metadata": {},
   "outputs": [],
   "source": [
    "def getSEIR(data):\n",
    "    return data[:,0], data[:,1], data[:,2], data[:,3]"
   ]
  },
  {
   "cell_type": "code",
   "execution_count": null,
   "metadata": {},
   "outputs": [],
   "source": [
    "_, E_fbc, I_fbc, _ = getSEIR(curve_facebook)\n",
    "_, E_mon, I_mon, _ = getSEIR(curve_montreal)\n",
    "_, E_sub, I_sub, _ = getSEIR(curve_portsub)\n",
    "_, E_por, I_por, _ = getSEIR(curve_portland)"
   ]
  },
  {
   "cell_type": "code",
   "execution_count": null,
   "metadata": {},
   "outputs": [],
   "source": [
    "fig, ax = plt.subplots()\n",
    "\n",
    "plt.plot(np.linspace(0,len(E_fbc)-1,len(E_fbc)),E_fbc+I_fbc, linestyle=\"--\", linewidth=5, color='tab:green', label='Facebook County')\n",
    "plt.plot(np.linspace(0,len(E_mon)-1,len(E_mon)),E_mon+I_mon, linestyle=\":\", linewidth=5, color='k', label='Wi-Fi Montreal')\n",
    "plt.plot(np.linspace(0,len(E_sub)-1,len(E_sub)),E_sub+I_sub, linestyle=\"-\", linewidth=5, color='tab:blue', label='Port. Sub.')\n",
    "plt.plot(np.linspace(0,len(E_por)-1,len(E_por)),E_por+I_por, linestyle=\"-.\", linewidth=5, color='tab:purple', label='Portland')\n",
    "plt.legend(fontsize=22, ncol=1, loc='upper right')\n",
    "plt.xticks(size=20)\n",
    "plt.yticks(size=20)\n",
    "plt.xlabel('Day', fontsize=25)\n",
    "plt.ylabel('Percentage of\\nTotal Active Cases',fontsize=25)\n",
    "fig.set_size_inches(9.3,5.5)\n",
    "ax.tick_params(axis=\"x\", labelsize=20)\n",
    "ax.tick_params(axis=\"y\", labelsize=20)\n",
    "plt.savefig('curves.pdf',  bbox_inches='tight')\n",
    "plt.show()"
   ]
  },
  {
   "cell_type": "code",
   "execution_count": null,
   "metadata": {},
   "outputs": [],
   "source": []
  }
 ],
 "metadata": {
  "kernelspec": {
   "display_name": "Python 3",
   "language": "python",
   "name": "python3"
  },
  "language_info": {
   "codemirror_mode": {
    "name": "ipython",
    "version": 3
   },
   "file_extension": ".py",
   "mimetype": "text/x-python",
   "name": "python",
   "nbconvert_exporter": "python",
   "pygments_lexer": "ipython3",
   "version": "3.7.6"
  }
 },
 "nbformat": 4,
 "nbformat_minor": 4
}
